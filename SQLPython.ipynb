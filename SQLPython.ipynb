{
 "cells": [
  {
   "cell_type": "markdown",
   "metadata": {},
   "source": [
    "# SQL Python"
   ]
  },
  {
   "cell_type": "markdown",
   "metadata": {},
   "source": [
    "## Create a Connection"
   ]
  },
  {
   "cell_type": "code",
   "execution_count": 24,
   "metadata": {},
   "outputs": [
    {
     "name": "stdout",
     "output_type": "stream",
     "text": [
      "Requirement already satisfied: pymysql in /Users/joaorochaemelo/code/IH/venv_ironhack/lib/python3.11/site-packages (1.1.0)\n",
      "Requirement already satisfied: cryptography in /Users/joaorochaemelo/code/IH/venv_ironhack/lib/python3.11/site-packages (42.0.7)\n",
      "Requirement already satisfied: cffi>=1.12 in /Users/joaorochaemelo/code/IH/venv_ironhack/lib/python3.11/site-packages (from cryptography) (1.16.0)\n",
      "Requirement already satisfied: pycparser in /Users/joaorochaemelo/code/IH/venv_ironhack/lib/python3.11/site-packages (from cffi>=1.12->cryptography) (2.22)\n"
     ]
    }
   ],
   "source": [
    "!pip install pymysql\n",
    "!pip install cryptography"
   ]
  },
  {
   "cell_type": "code",
   "execution_count": 11,
   "metadata": {},
   "outputs": [],
   "source": [
    "import getpass\n",
    "password = getpass.getpass()"
   ]
  },
  {
   "cell_type": "code",
   "execution_count": 14,
   "metadata": {},
   "outputs": [
    {
     "name": "stdout",
     "output_type": "stream",
     "text": [
      "Connection success\n"
     ]
    }
   ],
   "source": [
    "import pymysql\n",
    "\n",
    "cnx = pymysql.connect(user='root', password= password,\n",
    "                      host='localhost', database='sakila')\n",
    "if cnx.open:\n",
    "    print(\"Connection success\")\n",
    "else:\n",
    "    print(\"Connection did not succeeded\")\n"
   ]
  },
  {
   "cell_type": "markdown",
   "metadata": {},
   "source": [
    "## Connector"
   ]
  },
  {
   "cell_type": "code",
   "execution_count": 15,
   "metadata": {},
   "outputs": [],
   "source": [
    "# the object which will interact with the database\n",
    "cursor = cnx.cursor()"
   ]
  },
  {
   "cell_type": "markdown",
   "metadata": {},
   "source": [
    "## READ DATA - Execute the query and retrieve results"
   ]
  },
  {
   "cell_type": "code",
   "execution_count": 16,
   "metadata": {},
   "outputs": [
    {
     "name": "stdout",
     "output_type": "stream",
     "text": [
      "(1, 'PENELOPE', 'GUINESS', datetime.datetime(2006, 2, 15, 4, 34, 33))\n",
      "(2, 'NICK', 'WAHLBERG', datetime.datetime(2006, 2, 15, 4, 34, 33))\n",
      "(3, 'ED', 'CHASE', datetime.datetime(2006, 2, 15, 4, 34, 33))\n",
      "(4, 'JENNIFER', 'DAVIS', datetime.datetime(2006, 2, 15, 4, 34, 33))\n",
      "(5, 'JOHNNY', 'LOLLOBRIGIDA', datetime.datetime(2006, 2, 15, 4, 34, 33))\n",
      "(6, 'BETTE', 'NICHOLSON', datetime.datetime(2006, 2, 15, 4, 34, 33))\n",
      "(7, 'GRACE', 'MOSTEL', datetime.datetime(2006, 2, 15, 4, 34, 33))\n",
      "(8, 'MATTHEW', 'JOHANSSON', datetime.datetime(2006, 2, 15, 4, 34, 33))\n",
      "(9, 'JOE', 'SWANK', datetime.datetime(2006, 2, 15, 4, 34, 33))\n",
      "(10, 'CHRISTIAN', 'GABLE', datetime.datetime(2006, 2, 15, 4, 34, 33))\n",
      "(11, 'ZERO', 'CAGE', datetime.datetime(2006, 2, 15, 4, 34, 33))\n",
      "(12, 'KARL', 'BERRY', datetime.datetime(2006, 2, 15, 4, 34, 33))\n",
      "(13, 'UMA', 'WOOD', datetime.datetime(2006, 2, 15, 4, 34, 33))\n",
      "(14, 'VIVIEN', 'BERGEN', datetime.datetime(2006, 2, 15, 4, 34, 33))\n",
      "(15, 'CUBA', 'OLIVIER', datetime.datetime(2006, 2, 15, 4, 34, 33))\n",
      "(16, 'FRED', 'COSTNER', datetime.datetime(2006, 2, 15, 4, 34, 33))\n",
      "(17, 'HELEN', 'VOIGHT', datetime.datetime(2006, 2, 15, 4, 34, 33))\n",
      "(18, 'DAN', 'TORN', datetime.datetime(2006, 2, 15, 4, 34, 33))\n",
      "(19, 'BOB', 'FAWCETT', datetime.datetime(2006, 2, 15, 4, 34, 33))\n",
      "(20, 'LUCILLE', 'TRACY', datetime.datetime(2006, 2, 15, 4, 34, 33))\n",
      "(21, 'KIRSTEN', 'PALTROW', datetime.datetime(2006, 2, 15, 4, 34, 33))\n",
      "(22, 'ELVIS', 'MARX', datetime.datetime(2006, 2, 15, 4, 34, 33))\n",
      "(23, 'SANDRA', 'KILMER', datetime.datetime(2006, 2, 15, 4, 34, 33))\n",
      "(24, 'CAMERON', 'STREEP', datetime.datetime(2006, 2, 15, 4, 34, 33))\n",
      "(25, 'KEVIN', 'BLOOM', datetime.datetime(2006, 2, 15, 4, 34, 33))\n",
      "(26, 'RIP', 'CRAWFORD', datetime.datetime(2006, 2, 15, 4, 34, 33))\n",
      "(27, 'JULIA', 'MCQUEEN', datetime.datetime(2006, 2, 15, 4, 34, 33))\n",
      "(28, 'WOODY', 'HOFFMAN', datetime.datetime(2006, 2, 15, 4, 34, 33))\n",
      "(29, 'ALEC', 'WAYNE', datetime.datetime(2006, 2, 15, 4, 34, 33))\n",
      "(30, 'SANDRA', 'PECK', datetime.datetime(2006, 2, 15, 4, 34, 33))\n",
      "(31, 'SISSY', 'SOBIESKI', datetime.datetime(2006, 2, 15, 4, 34, 33))\n",
      "(32, 'TIM', 'HACKMAN', datetime.datetime(2006, 2, 15, 4, 34, 33))\n",
      "(33, 'MILLA', 'PECK', datetime.datetime(2006, 2, 15, 4, 34, 33))\n",
      "(34, 'AUDREY', 'OLIVIER', datetime.datetime(2006, 2, 15, 4, 34, 33))\n",
      "(35, 'JUDY', 'DEAN', datetime.datetime(2006, 2, 15, 4, 34, 33))\n",
      "(36, 'BURT', 'DUKAKIS', datetime.datetime(2006, 2, 15, 4, 34, 33))\n",
      "(37, 'VAL', 'BOLGER', datetime.datetime(2006, 2, 15, 4, 34, 33))\n",
      "(38, 'TOM', 'MCKELLEN', datetime.datetime(2006, 2, 15, 4, 34, 33))\n",
      "(39, 'GOLDIE', 'BRODY', datetime.datetime(2006, 2, 15, 4, 34, 33))\n",
      "(40, 'JOHNNY', 'CAGE', datetime.datetime(2006, 2, 15, 4, 34, 33))\n",
      "(41, 'JODIE', 'DEGENERES', datetime.datetime(2006, 2, 15, 4, 34, 33))\n",
      "(42, 'TOM', 'MIRANDA', datetime.datetime(2006, 2, 15, 4, 34, 33))\n",
      "(43, 'KIRK', 'JOVOVICH', datetime.datetime(2006, 2, 15, 4, 34, 33))\n",
      "(44, 'NICK', 'STALLONE', datetime.datetime(2006, 2, 15, 4, 34, 33))\n",
      "(45, 'REESE', 'KILMER', datetime.datetime(2006, 2, 15, 4, 34, 33))\n",
      "(46, 'PARKER', 'GOLDBERG', datetime.datetime(2006, 2, 15, 4, 34, 33))\n",
      "(47, 'JULIA', 'BARRYMORE', datetime.datetime(2006, 2, 15, 4, 34, 33))\n",
      "(48, 'FRANCES', 'DAY-LEWIS', datetime.datetime(2006, 2, 15, 4, 34, 33))\n",
      "(49, 'ANNE', 'CRONYN', datetime.datetime(2006, 2, 15, 4, 34, 33))\n",
      "(50, 'NATALIE', 'HOPKINS', datetime.datetime(2006, 2, 15, 4, 34, 33))\n",
      "(51, 'GARY', 'PHOENIX', datetime.datetime(2006, 2, 15, 4, 34, 33))\n",
      "(52, 'CARMEN', 'HUNT', datetime.datetime(2006, 2, 15, 4, 34, 33))\n",
      "(53, 'MENA', 'TEMPLE', datetime.datetime(2006, 2, 15, 4, 34, 33))\n",
      "(54, 'PENELOPE', 'PINKETT', datetime.datetime(2006, 2, 15, 4, 34, 33))\n",
      "(55, 'FAY', 'KILMER', datetime.datetime(2006, 2, 15, 4, 34, 33))\n",
      "(56, 'DAN', 'HARRIS', datetime.datetime(2006, 2, 15, 4, 34, 33))\n",
      "(57, 'JUDE', 'CRUISE', datetime.datetime(2006, 2, 15, 4, 34, 33))\n",
      "(58, 'CHRISTIAN', 'AKROYD', datetime.datetime(2006, 2, 15, 4, 34, 33))\n",
      "(59, 'DUSTIN', 'TAUTOU', datetime.datetime(2006, 2, 15, 4, 34, 33))\n",
      "(60, 'HENRY', 'BERRY', datetime.datetime(2006, 2, 15, 4, 34, 33))\n",
      "(61, 'CHRISTIAN', 'NEESON', datetime.datetime(2006, 2, 15, 4, 34, 33))\n",
      "(62, 'JAYNE', 'NEESON', datetime.datetime(2006, 2, 15, 4, 34, 33))\n",
      "(63, 'CAMERON', 'WRAY', datetime.datetime(2006, 2, 15, 4, 34, 33))\n",
      "(64, 'RAY', 'JOHANSSON', datetime.datetime(2006, 2, 15, 4, 34, 33))\n",
      "(65, 'ANGELA', 'HUDSON', datetime.datetime(2006, 2, 15, 4, 34, 33))\n",
      "(66, 'MARY', 'TANDY', datetime.datetime(2006, 2, 15, 4, 34, 33))\n",
      "(67, 'JESSICA', 'BAILEY', datetime.datetime(2006, 2, 15, 4, 34, 33))\n",
      "(68, 'RIP', 'WINSLET', datetime.datetime(2006, 2, 15, 4, 34, 33))\n",
      "(69, 'KENNETH', 'PALTROW', datetime.datetime(2006, 2, 15, 4, 34, 33))\n",
      "(70, 'MICHELLE', 'MCCONAUGHEY', datetime.datetime(2006, 2, 15, 4, 34, 33))\n",
      "(71, 'ADAM', 'GRANT', datetime.datetime(2006, 2, 15, 4, 34, 33))\n",
      "(72, 'SEAN', 'WILLIAMS', datetime.datetime(2006, 2, 15, 4, 34, 33))\n",
      "(73, 'GARY', 'PENN', datetime.datetime(2006, 2, 15, 4, 34, 33))\n",
      "(74, 'MILLA', 'KEITEL', datetime.datetime(2006, 2, 15, 4, 34, 33))\n",
      "(75, 'BURT', 'POSEY', datetime.datetime(2006, 2, 15, 4, 34, 33))\n",
      "(76, 'ANGELINA', 'ASTAIRE', datetime.datetime(2006, 2, 15, 4, 34, 33))\n",
      "(77, 'CARY', 'MCCONAUGHEY', datetime.datetime(2006, 2, 15, 4, 34, 33))\n",
      "(78, 'GROUCHO', 'SINATRA', datetime.datetime(2006, 2, 15, 4, 34, 33))\n",
      "(79, 'MAE', 'HOFFMAN', datetime.datetime(2006, 2, 15, 4, 34, 33))\n",
      "(80, 'RALPH', 'CRUZ', datetime.datetime(2006, 2, 15, 4, 34, 33))\n",
      "(81, 'SCARLETT', 'DAMON', datetime.datetime(2006, 2, 15, 4, 34, 33))\n",
      "(82, 'WOODY', 'JOLIE', datetime.datetime(2006, 2, 15, 4, 34, 33))\n",
      "(83, 'BEN', 'WILLIS', datetime.datetime(2006, 2, 15, 4, 34, 33))\n",
      "(84, 'JAMES', 'PITT', datetime.datetime(2006, 2, 15, 4, 34, 33))\n",
      "(85, 'MINNIE', 'ZELLWEGER', datetime.datetime(2006, 2, 15, 4, 34, 33))\n",
      "(86, 'GREG', 'CHAPLIN', datetime.datetime(2006, 2, 15, 4, 34, 33))\n",
      "(87, 'SPENCER', 'PECK', datetime.datetime(2006, 2, 15, 4, 34, 33))\n",
      "(88, 'KENNETH', 'PESCI', datetime.datetime(2006, 2, 15, 4, 34, 33))\n",
      "(89, 'CHARLIZE', 'DENCH', datetime.datetime(2006, 2, 15, 4, 34, 33))\n",
      "(90, 'SEAN', 'GUINESS', datetime.datetime(2006, 2, 15, 4, 34, 33))\n",
      "(91, 'CHRISTOPHER', 'BERRY', datetime.datetime(2006, 2, 15, 4, 34, 33))\n",
      "(92, 'KIRSTEN', 'AKROYD', datetime.datetime(2006, 2, 15, 4, 34, 33))\n",
      "(93, 'ELLEN', 'PRESLEY', datetime.datetime(2006, 2, 15, 4, 34, 33))\n",
      "(94, 'KENNETH', 'TORN', datetime.datetime(2006, 2, 15, 4, 34, 33))\n",
      "(95, 'DARYL', 'WAHLBERG', datetime.datetime(2006, 2, 15, 4, 34, 33))\n",
      "(96, 'GENE', 'WILLIS', datetime.datetime(2006, 2, 15, 4, 34, 33))\n",
      "(97, 'MEG', 'HAWKE', datetime.datetime(2006, 2, 15, 4, 34, 33))\n",
      "(98, 'CHRIS', 'BRIDGES', datetime.datetime(2006, 2, 15, 4, 34, 33))\n",
      "(99, 'JIM', 'MOSTEL', datetime.datetime(2006, 2, 15, 4, 34, 33))\n",
      "(100, 'SPENCER', 'DEPP', datetime.datetime(2006, 2, 15, 4, 34, 33))\n",
      "(101, 'SUSAN', 'DAVIS', datetime.datetime(2006, 2, 15, 4, 34, 33))\n",
      "(102, 'WALTER', 'TORN', datetime.datetime(2006, 2, 15, 4, 34, 33))\n",
      "(103, 'MATTHEW', 'LEIGH', datetime.datetime(2006, 2, 15, 4, 34, 33))\n",
      "(104, 'PENELOPE', 'CRONYN', datetime.datetime(2006, 2, 15, 4, 34, 33))\n",
      "(105, 'SIDNEY', 'CROWE', datetime.datetime(2006, 2, 15, 4, 34, 33))\n",
      "(106, 'GROUCHO', 'DUNST', datetime.datetime(2006, 2, 15, 4, 34, 33))\n",
      "(107, 'GINA', 'DEGENERES', datetime.datetime(2006, 2, 15, 4, 34, 33))\n",
      "(108, 'WARREN', 'NOLTE', datetime.datetime(2006, 2, 15, 4, 34, 33))\n",
      "(109, 'SYLVESTER', 'DERN', datetime.datetime(2006, 2, 15, 4, 34, 33))\n",
      "(110, 'SUSAN', 'DAVIS', datetime.datetime(2006, 2, 15, 4, 34, 33))\n",
      "(111, 'CAMERON', 'ZELLWEGER', datetime.datetime(2006, 2, 15, 4, 34, 33))\n",
      "(112, 'RUSSELL', 'BACALL', datetime.datetime(2006, 2, 15, 4, 34, 33))\n",
      "(113, 'MORGAN', 'HOPKINS', datetime.datetime(2006, 2, 15, 4, 34, 33))\n",
      "(114, 'MORGAN', 'MCDORMAND', datetime.datetime(2006, 2, 15, 4, 34, 33))\n",
      "(115, 'HARRISON', 'BALE', datetime.datetime(2006, 2, 15, 4, 34, 33))\n",
      "(116, 'DAN', 'STREEP', datetime.datetime(2006, 2, 15, 4, 34, 33))\n",
      "(117, 'RENEE', 'TRACY', datetime.datetime(2006, 2, 15, 4, 34, 33))\n",
      "(118, 'CUBA', 'ALLEN', datetime.datetime(2006, 2, 15, 4, 34, 33))\n",
      "(119, 'WARREN', 'JACKMAN', datetime.datetime(2006, 2, 15, 4, 34, 33))\n",
      "(120, 'PENELOPE', 'MONROE', datetime.datetime(2006, 2, 15, 4, 34, 33))\n",
      "(121, 'LIZA', 'BERGMAN', datetime.datetime(2006, 2, 15, 4, 34, 33))\n",
      "(122, 'SALMA', 'NOLTE', datetime.datetime(2006, 2, 15, 4, 34, 33))\n",
      "(123, 'JULIANNE', 'DENCH', datetime.datetime(2006, 2, 15, 4, 34, 33))\n",
      "(124, 'SCARLETT', 'BENING', datetime.datetime(2006, 2, 15, 4, 34, 33))\n",
      "(125, 'ALBERT', 'NOLTE', datetime.datetime(2006, 2, 15, 4, 34, 33))\n",
      "(126, 'FRANCES', 'TOMEI', datetime.datetime(2006, 2, 15, 4, 34, 33))\n",
      "(127, 'KEVIN', 'GARLAND', datetime.datetime(2006, 2, 15, 4, 34, 33))\n",
      "(128, 'CATE', 'MCQUEEN', datetime.datetime(2006, 2, 15, 4, 34, 33))\n",
      "(129, 'DARYL', 'CRAWFORD', datetime.datetime(2006, 2, 15, 4, 34, 33))\n",
      "(130, 'GRETA', 'KEITEL', datetime.datetime(2006, 2, 15, 4, 34, 33))\n",
      "(131, 'JANE', 'JACKMAN', datetime.datetime(2006, 2, 15, 4, 34, 33))\n",
      "(132, 'ADAM', 'HOPPER', datetime.datetime(2006, 2, 15, 4, 34, 33))\n",
      "(133, 'RICHARD', 'PENN', datetime.datetime(2006, 2, 15, 4, 34, 33))\n",
      "(134, 'GENE', 'HOPKINS', datetime.datetime(2006, 2, 15, 4, 34, 33))\n",
      "(135, 'RITA', 'REYNOLDS', datetime.datetime(2006, 2, 15, 4, 34, 33))\n",
      "(136, 'ED', 'MANSFIELD', datetime.datetime(2006, 2, 15, 4, 34, 33))\n",
      "(137, 'MORGAN', 'WILLIAMS', datetime.datetime(2006, 2, 15, 4, 34, 33))\n",
      "(138, 'LUCILLE', 'DEE', datetime.datetime(2006, 2, 15, 4, 34, 33))\n",
      "(139, 'EWAN', 'GOODING', datetime.datetime(2006, 2, 15, 4, 34, 33))\n",
      "(140, 'WHOOPI', 'HURT', datetime.datetime(2006, 2, 15, 4, 34, 33))\n",
      "(141, 'CATE', 'HARRIS', datetime.datetime(2006, 2, 15, 4, 34, 33))\n",
      "(142, 'JADA', 'RYDER', datetime.datetime(2006, 2, 15, 4, 34, 33))\n",
      "(143, 'RIVER', 'DEAN', datetime.datetime(2006, 2, 15, 4, 34, 33))\n",
      "(144, 'ANGELA', 'WITHERSPOON', datetime.datetime(2006, 2, 15, 4, 34, 33))\n",
      "(145, 'KIM', 'ALLEN', datetime.datetime(2006, 2, 15, 4, 34, 33))\n",
      "(146, 'ALBERT', 'JOHANSSON', datetime.datetime(2006, 2, 15, 4, 34, 33))\n",
      "(147, 'FAY', 'WINSLET', datetime.datetime(2006, 2, 15, 4, 34, 33))\n",
      "(148, 'EMILY', 'DEE', datetime.datetime(2006, 2, 15, 4, 34, 33))\n",
      "(149, 'RUSSELL', 'TEMPLE', datetime.datetime(2006, 2, 15, 4, 34, 33))\n",
      "(150, 'JAYNE', 'NOLTE', datetime.datetime(2006, 2, 15, 4, 34, 33))\n",
      "(151, 'GEOFFREY', 'HESTON', datetime.datetime(2006, 2, 15, 4, 34, 33))\n",
      "(152, 'BEN', 'HARRIS', datetime.datetime(2006, 2, 15, 4, 34, 33))\n",
      "(153, 'MINNIE', 'KILMER', datetime.datetime(2006, 2, 15, 4, 34, 33))\n",
      "(154, 'MERYL', 'GIBSON', datetime.datetime(2006, 2, 15, 4, 34, 33))\n",
      "(155, 'IAN', 'TANDY', datetime.datetime(2006, 2, 15, 4, 34, 33))\n",
      "(156, 'FAY', 'WOOD', datetime.datetime(2006, 2, 15, 4, 34, 33))\n",
      "(157, 'GRETA', 'MALDEN', datetime.datetime(2006, 2, 15, 4, 34, 33))\n",
      "(158, 'VIVIEN', 'BASINGER', datetime.datetime(2006, 2, 15, 4, 34, 33))\n",
      "(159, 'LAURA', 'BRODY', datetime.datetime(2006, 2, 15, 4, 34, 33))\n",
      "(160, 'CHRIS', 'DEPP', datetime.datetime(2006, 2, 15, 4, 34, 33))\n",
      "(161, 'HARVEY', 'HOPE', datetime.datetime(2006, 2, 15, 4, 34, 33))\n",
      "(162, 'OPRAH', 'KILMER', datetime.datetime(2006, 2, 15, 4, 34, 33))\n",
      "(163, 'CHRISTOPHER', 'WEST', datetime.datetime(2006, 2, 15, 4, 34, 33))\n",
      "(164, 'HUMPHREY', 'WILLIS', datetime.datetime(2006, 2, 15, 4, 34, 33))\n",
      "(165, 'AL', 'GARLAND', datetime.datetime(2006, 2, 15, 4, 34, 33))\n",
      "(166, 'NICK', 'DEGENERES', datetime.datetime(2006, 2, 15, 4, 34, 33))\n",
      "(167, 'LAURENCE', 'BULLOCK', datetime.datetime(2006, 2, 15, 4, 34, 33))\n",
      "(168, 'WILL', 'WILSON', datetime.datetime(2006, 2, 15, 4, 34, 33))\n",
      "(169, 'KENNETH', 'HOFFMAN', datetime.datetime(2006, 2, 15, 4, 34, 33))\n",
      "(170, 'MENA', 'HOPPER', datetime.datetime(2006, 2, 15, 4, 34, 33))\n",
      "(171, 'OLYMPIA', 'PFEIFFER', datetime.datetime(2006, 2, 15, 4, 34, 33))\n",
      "(172, 'GROUCHO', 'WILLIAMS', datetime.datetime(2006, 2, 15, 4, 34, 33))\n",
      "(173, 'ALAN', 'DREYFUSS', datetime.datetime(2006, 2, 15, 4, 34, 33))\n",
      "(174, 'MICHAEL', 'BENING', datetime.datetime(2006, 2, 15, 4, 34, 33))\n",
      "(175, 'WILLIAM', 'HACKMAN', datetime.datetime(2006, 2, 15, 4, 34, 33))\n",
      "(176, 'JON', 'CHASE', datetime.datetime(2006, 2, 15, 4, 34, 33))\n",
      "(177, 'GENE', 'MCKELLEN', datetime.datetime(2006, 2, 15, 4, 34, 33))\n",
      "(178, 'LISA', 'MONROE', datetime.datetime(2006, 2, 15, 4, 34, 33))\n",
      "(179, 'ED', 'GUINESS', datetime.datetime(2006, 2, 15, 4, 34, 33))\n",
      "(180, 'JEFF', 'SILVERSTONE', datetime.datetime(2006, 2, 15, 4, 34, 33))\n",
      "(181, 'MATTHEW', 'CARREY', datetime.datetime(2006, 2, 15, 4, 34, 33))\n",
      "(182, 'DEBBIE', 'AKROYD', datetime.datetime(2006, 2, 15, 4, 34, 33))\n",
      "(183, 'RUSSELL', 'CLOSE', datetime.datetime(2006, 2, 15, 4, 34, 33))\n",
      "(184, 'HUMPHREY', 'GARLAND', datetime.datetime(2006, 2, 15, 4, 34, 33))\n",
      "(185, 'MICHAEL', 'BOLGER', datetime.datetime(2006, 2, 15, 4, 34, 33))\n",
      "(186, 'JULIA', 'ZELLWEGER', datetime.datetime(2006, 2, 15, 4, 34, 33))\n",
      "(187, 'RENEE', 'BALL', datetime.datetime(2006, 2, 15, 4, 34, 33))\n",
      "(188, 'ROCK', 'DUKAKIS', datetime.datetime(2006, 2, 15, 4, 34, 33))\n",
      "(189, 'CUBA', 'BIRCH', datetime.datetime(2006, 2, 15, 4, 34, 33))\n",
      "(190, 'AUDREY', 'BAILEY', datetime.datetime(2006, 2, 15, 4, 34, 33))\n",
      "(191, 'GREGORY', 'GOODING', datetime.datetime(2006, 2, 15, 4, 34, 33))\n",
      "(192, 'JOHN', 'SUVARI', datetime.datetime(2006, 2, 15, 4, 34, 33))\n",
      "(193, 'BURT', 'TEMPLE', datetime.datetime(2006, 2, 15, 4, 34, 33))\n",
      "(194, 'MERYL', 'ALLEN', datetime.datetime(2006, 2, 15, 4, 34, 33))\n",
      "(195, 'JAYNE', 'SILVERSTONE', datetime.datetime(2006, 2, 15, 4, 34, 33))\n",
      "(196, 'BELA', 'WALKEN', datetime.datetime(2006, 2, 15, 4, 34, 33))\n",
      "(197, 'REESE', 'WEST', datetime.datetime(2006, 2, 15, 4, 34, 33))\n",
      "(198, 'MARY', 'KEITEL', datetime.datetime(2006, 2, 15, 4, 34, 33))\n",
      "(199, 'JULIA', 'FAWCETT', datetime.datetime(2006, 2, 15, 4, 34, 33))\n",
      "(200, 'THORA', 'TEMPLE', datetime.datetime(2006, 2, 15, 4, 34, 33))\n"
     ]
    },
    {
     "data": {
      "text/plain": [
       "(('actor_id', 2, None, 5, 5, 0, False),\n",
       " ('first_name', 253, None, 180, 180, 0, False),\n",
       " ('last_name', 253, None, 180, 180, 0, False),\n",
       " ('last_update', 7, None, 19, 19, 0, False))"
      ]
     },
     "execution_count": 16,
     "metadata": {},
     "output_type": "execute_result"
    }
   ],
   "source": [
    "#Execute the Query\n",
    "query = \"SELECT * FROM sakila.actor;\"\n",
    "cursor.execute(query)\n",
    "\n",
    "# The query has been exectued at this point, but the results are still in the cursor\n",
    "result = cursor.fetchall()\n",
    "\n",
    "for element in result:\n",
    "    print(element)\n",
    "    \n",
    "\n",
    "#print(type(result))\n",
    "\n",
    "# this object returns to you the metadata of the selected table\n",
    "cursor.description\n",
    "# returns the METADATA"
   ]
  },
  {
   "cell_type": "markdown",
   "metadata": {},
   "source": [
    "## Load data in Pandas"
   ]
  },
  {
   "cell_type": "code",
   "execution_count": 17,
   "metadata": {},
   "outputs": [
    {
     "data": {
      "application/vnd.microsoft.datawrangler.viewer.v0+json": {
       "columns": [
        {
         "name": "index",
         "rawType": "int64",
         "type": "integer"
        },
        {
         "name": "actor_id",
         "rawType": "int64",
         "type": "integer"
        },
        {
         "name": "first_name",
         "rawType": "object",
         "type": "string"
        },
        {
         "name": "last_name",
         "rawType": "object",
         "type": "string"
        },
        {
         "name": "last_update",
         "rawType": "datetime64[ns]",
         "type": "datetime"
        }
       ],
       "conversionMethod": "pd.DataFrame",
       "ref": "aaa88040-2bba-467b-b665-cfaeb9bce869",
       "rows": [
        [
         "0",
         "1",
         "PENELOPE",
         "GUINESS",
         "2006-02-15 04:34:33"
        ],
        [
         "1",
         "2",
         "NICK",
         "WAHLBERG",
         "2006-02-15 04:34:33"
        ],
        [
         "2",
         "3",
         "ED",
         "CHASE",
         "2006-02-15 04:34:33"
        ],
        [
         "3",
         "4",
         "JENNIFER",
         "DAVIS",
         "2006-02-15 04:34:33"
        ],
        [
         "4",
         "5",
         "JOHNNY",
         "LOLLOBRIGIDA",
         "2006-02-15 04:34:33"
        ]
       ],
       "shape": {
        "columns": 4,
        "rows": 5
       }
      },
      "text/html": [
       "<div>\n",
       "<style scoped>\n",
       "    .dataframe tbody tr th:only-of-type {\n",
       "        vertical-align: middle;\n",
       "    }\n",
       "\n",
       "    .dataframe tbody tr th {\n",
       "        vertical-align: top;\n",
       "    }\n",
       "\n",
       "    .dataframe thead th {\n",
       "        text-align: right;\n",
       "    }\n",
       "</style>\n",
       "<table border=\"1\" class=\"dataframe\">\n",
       "  <thead>\n",
       "    <tr style=\"text-align: right;\">\n",
       "      <th></th>\n",
       "      <th>actor_id</th>\n",
       "      <th>first_name</th>\n",
       "      <th>last_name</th>\n",
       "      <th>last_update</th>\n",
       "    </tr>\n",
       "  </thead>\n",
       "  <tbody>\n",
       "    <tr>\n",
       "      <th>0</th>\n",
       "      <td>1</td>\n",
       "      <td>PENELOPE</td>\n",
       "      <td>GUINESS</td>\n",
       "      <td>2006-02-15 04:34:33</td>\n",
       "    </tr>\n",
       "    <tr>\n",
       "      <th>1</th>\n",
       "      <td>2</td>\n",
       "      <td>NICK</td>\n",
       "      <td>WAHLBERG</td>\n",
       "      <td>2006-02-15 04:34:33</td>\n",
       "    </tr>\n",
       "    <tr>\n",
       "      <th>2</th>\n",
       "      <td>3</td>\n",
       "      <td>ED</td>\n",
       "      <td>CHASE</td>\n",
       "      <td>2006-02-15 04:34:33</td>\n",
       "    </tr>\n",
       "    <tr>\n",
       "      <th>3</th>\n",
       "      <td>4</td>\n",
       "      <td>JENNIFER</td>\n",
       "      <td>DAVIS</td>\n",
       "      <td>2006-02-15 04:34:33</td>\n",
       "    </tr>\n",
       "    <tr>\n",
       "      <th>4</th>\n",
       "      <td>5</td>\n",
       "      <td>JOHNNY</td>\n",
       "      <td>LOLLOBRIGIDA</td>\n",
       "      <td>2006-02-15 04:34:33</td>\n",
       "    </tr>\n",
       "  </tbody>\n",
       "</table>\n",
       "</div>"
      ],
      "text/plain": [
       "   actor_id first_name     last_name         last_update\n",
       "0         1   PENELOPE       GUINESS 2006-02-15 04:34:33\n",
       "1         2       NICK      WAHLBERG 2006-02-15 04:34:33\n",
       "2         3         ED         CHASE 2006-02-15 04:34:33\n",
       "3         4   JENNIFER         DAVIS 2006-02-15 04:34:33\n",
       "4         5     JOHNNY  LOLLOBRIGIDA 2006-02-15 04:34:33"
      ]
     },
     "execution_count": 17,
     "metadata": {},
     "output_type": "execute_result"
    }
   ],
   "source": [
    "import pandas as pd\n",
    "\n",
    "col_names = [header[0] for header in cursor.description]\n",
    "actors = pd.DataFrame(result, columns = col_names)\n",
    "actors.head()\n",
    "# and now its the usual pandas game."
   ]
  },
  {
   "cell_type": "markdown",
   "metadata": {},
   "source": [
    "Decorators that can be used "
   ]
  },
  {
   "attachments": {
    "image.png": {
     "image/png": "[encoded data removed]"
    }
   },
   "cell_type": "markdown",
   "metadata": {},
   "source": [
    "![image.png](attachment:image.png)"
   ]
  },
  {
   "cell_type": "markdown",
   "metadata": {},
   "source": [
    "## Save and Close the connection"
   ]
  },
  {
   "cell_type": "code",
   "execution_count": 18,
   "metadata": {},
   "outputs": [
    {
     "ename": "ProgrammingError",
     "evalue": "Cursor closed",
     "output_type": "error",
     "traceback": [
      "\u001b[1;31m---------------------------------------------------------------------------\u001b[0m",
      "\u001b[1;31mProgrammingError\u001b[0m                          Traceback (most recent call last)",
      "Cell \u001b[1;32mIn[18], line 13\u001b[0m\n\u001b[0;32m     11\u001b[0m \u001b[38;5;66;03m# Connection Closed?\u001b[39;00m\n\u001b[0;32m     12\u001b[0m query \u001b[38;5;241m=\u001b[39m \u001b[38;5;124m\"\u001b[39m\u001b[38;5;124mSELECT * FROM sakila.actor;\u001b[39m\u001b[38;5;124m\"\u001b[39m\n\u001b[1;32m---> 13\u001b[0m \u001b[43mcursor\u001b[49m\u001b[38;5;241;43m.\u001b[39;49m\u001b[43mexecute\u001b[49m\u001b[43m(\u001b[49m\u001b[43mquery\u001b[49m\u001b[43m)\u001b[49m\n",
      "File \u001b[1;32mc:\\Users\\edumc\\AppData\\Local\\Programs\\Python\\Python313\\Lib\\site-packages\\pymysql\\cursors.py:148\u001b[0m, in \u001b[0;36mCursor.execute\u001b[1;34m(self, query, args)\u001b[0m\n\u001b[0;32m    133\u001b[0m \u001b[38;5;28;01mdef\u001b[39;00m\u001b[38;5;250m \u001b[39m\u001b[38;5;21mexecute\u001b[39m(\u001b[38;5;28mself\u001b[39m, query, args\u001b[38;5;241m=\u001b[39m\u001b[38;5;28;01mNone\u001b[39;00m):\n\u001b[0;32m    134\u001b[0m \u001b[38;5;250m    \u001b[39m\u001b[38;5;124;03m\"\"\"Execute a query.\u001b[39;00m\n\u001b[0;32m    135\u001b[0m \n\u001b[0;32m    136\u001b[0m \u001b[38;5;124;03m    :param query: Query to execute.\u001b[39;00m\n\u001b[1;32m   (...)\u001b[0m\n\u001b[0;32m    146\u001b[0m \u001b[38;5;124;03m    If args is a dict, %(name)s can be used as a placeholder in the query.\u001b[39;00m\n\u001b[0;32m    147\u001b[0m \u001b[38;5;124;03m    \"\"\"\u001b[39;00m\n\u001b[1;32m--> 148\u001b[0m     \u001b[38;5;28;01mwhile\u001b[39;00m \u001b[38;5;28;43mself\u001b[39;49m\u001b[38;5;241;43m.\u001b[39;49m\u001b[43mnextset\u001b[49m\u001b[43m(\u001b[49m\u001b[43m)\u001b[49m:\n\u001b[0;32m    149\u001b[0m         \u001b[38;5;28;01mpass\u001b[39;00m\n\u001b[0;32m    151\u001b[0m     query \u001b[38;5;241m=\u001b[39m \u001b[38;5;28mself\u001b[39m\u001b[38;5;241m.\u001b[39mmogrify(query, args)\n",
      "File \u001b[1;32mc:\\Users\\edumc\\AppData\\Local\\Programs\\Python\\Python313\\Lib\\site-packages\\pymysql\\cursors.py:98\u001b[0m, in \u001b[0;36mCursor.nextset\u001b[1;34m(self)\u001b[0m\n\u001b[0;32m     97\u001b[0m \u001b[38;5;28;01mdef\u001b[39;00m\u001b[38;5;250m \u001b[39m\u001b[38;5;21mnextset\u001b[39m(\u001b[38;5;28mself\u001b[39m):\n\u001b[1;32m---> 98\u001b[0m     \u001b[38;5;28;01mreturn\u001b[39;00m \u001b[38;5;28;43mself\u001b[39;49m\u001b[38;5;241;43m.\u001b[39;49m\u001b[43m_nextset\u001b[49m\u001b[43m(\u001b[49m\u001b[38;5;28;43;01mFalse\u001b[39;49;00m\u001b[43m)\u001b[49m\n",
      "File \u001b[1;32mc:\\Users\\edumc\\AppData\\Local\\Programs\\Python\\Python313\\Lib\\site-packages\\pymysql\\cursors.py:85\u001b[0m, in \u001b[0;36mCursor._nextset\u001b[1;34m(self, unbuffered)\u001b[0m\n\u001b[0;32m     83\u001b[0m \u001b[38;5;28;01mdef\u001b[39;00m\u001b[38;5;250m \u001b[39m\u001b[38;5;21m_nextset\u001b[39m(\u001b[38;5;28mself\u001b[39m, unbuffered\u001b[38;5;241m=\u001b[39m\u001b[38;5;28;01mFalse\u001b[39;00m):\n\u001b[0;32m     84\u001b[0m \u001b[38;5;250m    \u001b[39m\u001b[38;5;124;03m\"\"\"Get the next query set.\"\"\"\u001b[39;00m\n\u001b[1;32m---> 85\u001b[0m     conn \u001b[38;5;241m=\u001b[39m \u001b[38;5;28;43mself\u001b[39;49m\u001b[38;5;241;43m.\u001b[39;49m\u001b[43m_get_db\u001b[49m\u001b[43m(\u001b[49m\u001b[43m)\u001b[49m\n\u001b[0;32m     86\u001b[0m     current_result \u001b[38;5;241m=\u001b[39m \u001b[38;5;28mself\u001b[39m\u001b[38;5;241m.\u001b[39m_result\n\u001b[0;32m     87\u001b[0m     \u001b[38;5;28;01mif\u001b[39;00m current_result \u001b[38;5;129;01mis\u001b[39;00m \u001b[38;5;28;01mNone\u001b[39;00m \u001b[38;5;129;01mor\u001b[39;00m current_result \u001b[38;5;129;01mis\u001b[39;00m \u001b[38;5;129;01mnot\u001b[39;00m conn\u001b[38;5;241m.\u001b[39m_result:\n",
      "File \u001b[1;32mc:\\Users\\edumc\\AppData\\Local\\Programs\\Python\\Python313\\Lib\\site-packages\\pymysql\\cursors.py:67\u001b[0m, in \u001b[0;36mCursor._get_db\u001b[1;34m(self)\u001b[0m\n\u001b[0;32m     65\u001b[0m \u001b[38;5;28;01mdef\u001b[39;00m\u001b[38;5;250m \u001b[39m\u001b[38;5;21m_get_db\u001b[39m(\u001b[38;5;28mself\u001b[39m):\n\u001b[0;32m     66\u001b[0m     \u001b[38;5;28;01mif\u001b[39;00m \u001b[38;5;129;01mnot\u001b[39;00m \u001b[38;5;28mself\u001b[39m\u001b[38;5;241m.\u001b[39mconnection:\n\u001b[1;32m---> 67\u001b[0m         \u001b[38;5;28;01mraise\u001b[39;00m err\u001b[38;5;241m.\u001b[39mProgrammingError(\u001b[38;5;124m\"\u001b[39m\u001b[38;5;124mCursor closed\u001b[39m\u001b[38;5;124m\"\u001b[39m)\n\u001b[0;32m     68\u001b[0m     \u001b[38;5;28;01mreturn\u001b[39;00m \u001b[38;5;28mself\u001b[39m\u001b[38;5;241m.\u001b[39mconnection\n",
      "\u001b[1;31mProgrammingError\u001b[0m: Cursor closed"
     ]
    }
   ],
   "source": [
    "# The Python Wrapper for MSQL has generated changes to the database \n",
    "# which must now be committed, this is done with the command\n",
    "# it's like \"Saving\" the changes made\n",
    "cnx.commit()\n",
    "#The cursor object has done it's job\n",
    "cursor.close()\n",
    "# and we now close the connection, you must always do this (good practice) or else the database might not be responsive to other connections.\n",
    "cnx.close() \n",
    "\n",
    "\n",
    "# Connection Closed?\n",
    "query = \"SELECT * FROM sakila.actor;\"\n",
    "cursor.execute(query)"
   ]
  },
  {
   "cell_type": "markdown",
   "metadata": {},
   "source": [
    "## Pandas vs SQL"
   ]
  },
  {
   "cell_type": "code",
   "execution_count": 19,
   "metadata": {},
   "outputs": [
    {
     "name": "stdout",
     "output_type": "stream",
     "text": [
      "Connection open\n"
     ]
    }
   ],
   "source": [
    "import pymysql\n",
    "\n",
    "cnx = pymysql.connect(user='root', password= password,\n",
    "                      host='localhost', database='sakila')\n",
    "if cnx.open:\n",
    "    print(\"Connection open\")\n",
    "else:\n",
    "    print(\"Connection is not successfully open\")\n",
    "\n",
    "# the object which will interact with the database\n",
    "cursor = cnx.cursor()"
   ]
  },
  {
   "cell_type": "markdown",
   "metadata": {},
   "source": [
    "### In Pandas..."
   ]
  },
  {
   "cell_type": "code",
   "execution_count": 20,
   "metadata": {},
   "outputs": [
    {
     "name": "stdout",
     "output_type": "stream",
     "text": [
      "0.05758380889892578\n"
     ]
    },
    {
     "data": {
      "application/vnd.microsoft.datawrangler.viewer.v0+json": {
       "columns": [
        {
         "name": "index",
         "rawType": "int64",
         "type": "integer"
        },
        {
         "name": "actor_id",
         "rawType": "int64",
         "type": "integer"
        },
        {
         "name": "first_name",
         "rawType": "object",
         "type": "string"
        },
        {
         "name": "last_name",
         "rawType": "object",
         "type": "string"
        },
        {
         "name": "last_update_x",
         "rawType": "datetime64[ns]",
         "type": "datetime"
        },
        {
         "name": "film_id",
         "rawType": "int64",
         "type": "integer"
        },
        {
         "name": "last_update_y",
         "rawType": "datetime64[ns]",
         "type": "datetime"
        },
        {
         "name": "title",
         "rawType": "object",
         "type": "string"
        },
        {
         "name": "description",
         "rawType": "object",
         "type": "string"
        },
        {
         "name": "release_year",
         "rawType": "int64",
         "type": "integer"
        },
        {
         "name": "language_id",
         "rawType": "int64",
         "type": "integer"
        },
        {
         "name": "original_language_id",
         "rawType": "object",
         "type": "unknown"
        },
        {
         "name": "rental_duration",
         "rawType": "int64",
         "type": "integer"
        },
        {
         "name": "rental_rate",
         "rawType": "object",
         "type": "unknown"
        },
        {
         "name": "length",
         "rawType": "int64",
         "type": "integer"
        },
        {
         "name": "replacement_cost",
         "rawType": "object",
         "type": "unknown"
        },
        {
         "name": "rating",
         "rawType": "object",
         "type": "string"
        },
        {
         "name": "special_features",
         "rawType": "object",
         "type": "string"
        },
        {
         "name": "last_update",
         "rawType": "datetime64[ns]",
         "type": "datetime"
        }
       ],
       "conversionMethod": "pd.DataFrame",
       "ref": "86475822-74fe-4545-b9ca-daf0e6d34128",
       "rows": [
        [
         "0",
         "1",
         "PENELOPE",
         "GUINESS",
         "2006-02-15 04:34:33",
         "1",
         "2006-02-15 05:05:03",
         "ACADEMY DINOSAUR",
         "A Epic Drama of a Feminist And a Mad Scientist who must Battle a Teacher in The Canadian Rockies",
         "2006",
         "1",
         null,
         "6",
         "0.99",
         "86",
         "20.99",
         "PG",
         "Deleted Scenes,Behind the Scenes",
         "2006-02-15 05:03:42"
        ],
        [
         "1",
         "1",
         "PENELOPE",
         "GUINESS",
         "2006-02-15 04:34:33",
         "23",
         "2006-02-15 05:05:03",
         "ANACONDA CONFESSIONS",
         "A Lacklusture Display of a Dentist And a Dentist who must Fight a Girl in Australia",
         "2006",
         "1",
         null,
         "3",
         "0.99",
         "92",
         "9.99",
         "R",
         "Trailers,Deleted Scenes",
         "2006-02-15 05:03:42"
        ],
        [
         "2",
         "1",
         "PENELOPE",
         "GUINESS",
         "2006-02-15 04:34:33",
         "25",
         "2006-02-15 05:05:03",
         "ANGELS LIFE",
         "A Thoughtful Display of a Woman And a Astronaut who must Battle a Robot in Berlin",
         "2006",
         "1",
         null,
         "3",
         "2.99",
         "74",
         "15.99",
         "G",
         "Trailers",
         "2006-02-15 05:03:42"
        ]
       ],
       "shape": {
        "columns": 18,
        "rows": 3
       }
      },
      "text/html": [
       "<div>\n",
       "<style scoped>\n",
       "    .dataframe tbody tr th:only-of-type {\n",
       "        vertical-align: middle;\n",
       "    }\n",
       "\n",
       "    .dataframe tbody tr th {\n",
       "        vertical-align: top;\n",
       "    }\n",
       "\n",
       "    .dataframe thead th {\n",
       "        text-align: right;\n",
       "    }\n",
       "</style>\n",
       "<table border=\"1\" class=\"dataframe\">\n",
       "  <thead>\n",
       "    <tr style=\"text-align: right;\">\n",
       "      <th></th>\n",
       "      <th>actor_id</th>\n",
       "      <th>first_name</th>\n",
       "      <th>last_name</th>\n",
       "      <th>last_update_x</th>\n",
       "      <th>film_id</th>\n",
       "      <th>last_update_y</th>\n",
       "      <th>title</th>\n",
       "      <th>description</th>\n",
       "      <th>release_year</th>\n",
       "      <th>language_id</th>\n",
       "      <th>original_language_id</th>\n",
       "      <th>rental_duration</th>\n",
       "      <th>rental_rate</th>\n",
       "      <th>length</th>\n",
       "      <th>replacement_cost</th>\n",
       "      <th>rating</th>\n",
       "      <th>special_features</th>\n",
       "      <th>last_update</th>\n",
       "    </tr>\n",
       "  </thead>\n",
       "  <tbody>\n",
       "    <tr>\n",
       "      <th>0</th>\n",
       "      <td>1</td>\n",
       "      <td>PENELOPE</td>\n",
       "      <td>GUINESS</td>\n",
       "      <td>2006-02-15 04:34:33</td>\n",
       "      <td>1</td>\n",
       "      <td>2006-02-15 05:05:03</td>\n",
       "      <td>ACADEMY DINOSAUR</td>\n",
       "      <td>A Epic Drama of a Feminist And a Mad Scientist...</td>\n",
       "      <td>2006</td>\n",
       "      <td>1</td>\n",
       "      <td>None</td>\n",
       "      <td>6</td>\n",
       "      <td>0.99</td>\n",
       "      <td>86</td>\n",
       "      <td>20.99</td>\n",
       "      <td>PG</td>\n",
       "      <td>Deleted Scenes,Behind the Scenes</td>\n",
       "      <td>2006-02-15 05:03:42</td>\n",
       "    </tr>\n",
       "    <tr>\n",
       "      <th>1</th>\n",
       "      <td>1</td>\n",
       "      <td>PENELOPE</td>\n",
       "      <td>GUINESS</td>\n",
       "      <td>2006-02-15 04:34:33</td>\n",
       "      <td>23</td>\n",
       "      <td>2006-02-15 05:05:03</td>\n",
       "      <td>ANACONDA CONFESSIONS</td>\n",
       "      <td>A Lacklusture Display of a Dentist And a Denti...</td>\n",
       "      <td>2006</td>\n",
       "      <td>1</td>\n",
       "      <td>None</td>\n",
       "      <td>3</td>\n",
       "      <td>0.99</td>\n",
       "      <td>92</td>\n",
       "      <td>9.99</td>\n",
       "      <td>R</td>\n",
       "      <td>Trailers,Deleted Scenes</td>\n",
       "      <td>2006-02-15 05:03:42</td>\n",
       "    </tr>\n",
       "    <tr>\n",
       "      <th>2</th>\n",
       "      <td>1</td>\n",
       "      <td>PENELOPE</td>\n",
       "      <td>GUINESS</td>\n",
       "      <td>2006-02-15 04:34:33</td>\n",
       "      <td>25</td>\n",
       "      <td>2006-02-15 05:05:03</td>\n",
       "      <td>ANGELS LIFE</td>\n",
       "      <td>A Thoughtful Display of a Woman And a Astronau...</td>\n",
       "      <td>2006</td>\n",
       "      <td>1</td>\n",
       "      <td>None</td>\n",
       "      <td>3</td>\n",
       "      <td>2.99</td>\n",
       "      <td>74</td>\n",
       "      <td>15.99</td>\n",
       "      <td>G</td>\n",
       "      <td>Trailers</td>\n",
       "      <td>2006-02-15 05:03:42</td>\n",
       "    </tr>\n",
       "  </tbody>\n",
       "</table>\n",
       "</div>"
      ],
      "text/plain": [
       "   actor_id first_name last_name       last_update_x  film_id  \\\n",
       "0         1   PENELOPE   GUINESS 2006-02-15 04:34:33        1   \n",
       "1         1   PENELOPE   GUINESS 2006-02-15 04:34:33       23   \n",
       "2         1   PENELOPE   GUINESS 2006-02-15 04:34:33       25   \n",
       "\n",
       "        last_update_y                 title  \\\n",
       "0 2006-02-15 05:05:03      ACADEMY DINOSAUR   \n",
       "1 2006-02-15 05:05:03  ANACONDA CONFESSIONS   \n",
       "2 2006-02-15 05:05:03           ANGELS LIFE   \n",
       "\n",
       "                                         description  release_year  \\\n",
       "0  A Epic Drama of a Feminist And a Mad Scientist...          2006   \n",
       "1  A Lacklusture Display of a Dentist And a Denti...          2006   \n",
       "2  A Thoughtful Display of a Woman And a Astronau...          2006   \n",
       "\n",
       "   language_id original_language_id  rental_duration rental_rate  length  \\\n",
       "0            1                 None                6        0.99      86   \n",
       "1            1                 None                3        0.99      92   \n",
       "2            1                 None                3        2.99      74   \n",
       "\n",
       "  replacement_cost rating                  special_features  \\\n",
       "0            20.99     PG  Deleted Scenes,Behind the Scenes   \n",
       "1             9.99      R           Trailers,Deleted Scenes   \n",
       "2            15.99      G                          Trailers   \n",
       "\n",
       "          last_update  \n",
       "0 2006-02-15 05:03:42  \n",
       "1 2006-02-15 05:03:42  \n",
       "2 2006-02-15 05:03:42  "
      ]
     },
     "execution_count": 20,
     "metadata": {},
     "output_type": "execute_result"
    }
   ],
   "source": [
    "import time\n",
    "\n",
    "t1 = time.time()\n",
    "\n",
    "query1 = (\"SELECT * FROM sakila.actor;\")\n",
    "query2 = (\"SELECT * FROM sakila.film_actor;\")\n",
    "query3 = (\"SELECT * FROM sakila.film;\")\n",
    "\n",
    "# execute the query with the cursor\n",
    "cursor.execute(query1)\n",
    "# store the result in a python variable (list of tuples)\n",
    "result1 = cursor.fetchall()\n",
    "# convert my python variable to a dataframe\n",
    "actors = pd.DataFrame(result1, columns = [header[0] for header in cursor.description])\n",
    "\n",
    "cursor.execute(query2)\n",
    "result2 = cursor.fetchall()\n",
    "films_actors = pd.DataFrame(result2, columns = [header[0] for header in cursor.description])\n",
    "\n",
    "cursor.execute(query3)\n",
    "result3 = cursor.fetchall()\n",
    "films = pd.DataFrame(result3, columns = [header[0] for header in cursor.description])\n",
    "\n",
    "bridge = pd.merge(actors, films_actors, on='actor_id')\n",
    "final = pd.merge(bridge, films, on = 'film_id')\n",
    "\n",
    "print(time.time()-t1)\n",
    "final.head(3)"
   ]
  },
  {
   "cell_type": "markdown",
   "metadata": {},
   "source": [
    "### In SQL"
   ]
  },
  {
   "cell_type": "code",
   "execution_count": 16,
   "metadata": {},
   "outputs": [
    {
     "name": "stdout",
     "output_type": "stream",
     "text": [
      "0.21159982681274414\n"
     ]
    },
    {
     "data": {
      "text/html": [
       "<div>\n",
       "<style scoped>\n",
       "    .dataframe tbody tr th:only-of-type {\n",
       "        vertical-align: middle;\n",
       "    }\n",
       "\n",
       "    .dataframe tbody tr th {\n",
       "        vertical-align: top;\n",
       "    }\n",
       "\n",
       "    .dataframe thead th {\n",
       "        text-align: right;\n",
       "    }\n",
       "</style>\n",
       "<table border=\"1\" class=\"dataframe\">\n",
       "  <thead>\n",
       "    <tr style=\"text-align: right;\">\n",
       "      <th></th>\n",
       "      <th>actor_id</th>\n",
       "      <th>first_name</th>\n",
       "      <th>last_name</th>\n",
       "      <th>last_update</th>\n",
       "      <th>actor_id</th>\n",
       "      <th>film_id</th>\n",
       "      <th>last_update</th>\n",
       "      <th>film_id</th>\n",
       "      <th>title</th>\n",
       "      <th>description</th>\n",
       "      <th>release_year</th>\n",
       "      <th>language_id</th>\n",
       "      <th>original_language_id</th>\n",
       "      <th>rental_duration</th>\n",
       "      <th>rental_rate</th>\n",
       "      <th>length</th>\n",
       "      <th>replacement_cost</th>\n",
       "      <th>rating</th>\n",
       "      <th>special_features</th>\n",
       "      <th>last_update</th>\n",
       "    </tr>\n",
       "  </thead>\n",
       "  <tbody>\n",
       "    <tr>\n",
       "      <th>0</th>\n",
       "      <td>1</td>\n",
       "      <td>PENELOPE</td>\n",
       "      <td>GUINESS</td>\n",
       "      <td>2006-02-15 04:34:33</td>\n",
       "      <td>1</td>\n",
       "      <td>1</td>\n",
       "      <td>2006-02-15 05:05:03</td>\n",
       "      <td>1</td>\n",
       "      <td>ACADEMY DINOSAUR</td>\n",
       "      <td>A Epic Drama of a Feminist And a Mad Scientist...</td>\n",
       "      <td>2006</td>\n",
       "      <td>1</td>\n",
       "      <td>None</td>\n",
       "      <td>6</td>\n",
       "      <td>0.99</td>\n",
       "      <td>86</td>\n",
       "      <td>20.99</td>\n",
       "      <td>PG</td>\n",
       "      <td>Deleted Scenes,Behind the Scenes</td>\n",
       "      <td>2006-02-15 05:03:42</td>\n",
       "    </tr>\n",
       "    <tr>\n",
       "      <th>1</th>\n",
       "      <td>1</td>\n",
       "      <td>PENELOPE</td>\n",
       "      <td>GUINESS</td>\n",
       "      <td>2006-02-15 04:34:33</td>\n",
       "      <td>1</td>\n",
       "      <td>23</td>\n",
       "      <td>2006-02-15 05:05:03</td>\n",
       "      <td>23</td>\n",
       "      <td>ANACONDA CONFESSIONS</td>\n",
       "      <td>A Lacklusture Display of a Dentist And a Denti...</td>\n",
       "      <td>2006</td>\n",
       "      <td>1</td>\n",
       "      <td>None</td>\n",
       "      <td>3</td>\n",
       "      <td>0.99</td>\n",
       "      <td>92</td>\n",
       "      <td>9.99</td>\n",
       "      <td>R</td>\n",
       "      <td>Trailers,Deleted Scenes</td>\n",
       "      <td>2006-02-15 05:03:42</td>\n",
       "    </tr>\n",
       "    <tr>\n",
       "      <th>2</th>\n",
       "      <td>1</td>\n",
       "      <td>PENELOPE</td>\n",
       "      <td>GUINESS</td>\n",
       "      <td>2006-02-15 04:34:33</td>\n",
       "      <td>1</td>\n",
       "      <td>25</td>\n",
       "      <td>2006-02-15 05:05:03</td>\n",
       "      <td>25</td>\n",
       "      <td>ANGELS LIFE</td>\n",
       "      <td>A Thoughtful Display of a Woman And a Astronau...</td>\n",
       "      <td>2006</td>\n",
       "      <td>1</td>\n",
       "      <td>None</td>\n",
       "      <td>3</td>\n",
       "      <td>2.99</td>\n",
       "      <td>74</td>\n",
       "      <td>15.99</td>\n",
       "      <td>G</td>\n",
       "      <td>Trailers</td>\n",
       "      <td>2006-02-15 05:03:42</td>\n",
       "    </tr>\n",
       "  </tbody>\n",
       "</table>\n",
       "</div>"
      ],
      "text/plain": [
       "   actor_id first_name last_name         last_update  actor_id  film_id  \\\n",
       "0         1   PENELOPE   GUINESS 2006-02-15 04:34:33         1        1   \n",
       "1         1   PENELOPE   GUINESS 2006-02-15 04:34:33         1       23   \n",
       "2         1   PENELOPE   GUINESS 2006-02-15 04:34:33         1       25   \n",
       "\n",
       "          last_update  film_id                 title  \\\n",
       "0 2006-02-15 05:05:03        1      ACADEMY DINOSAUR   \n",
       "1 2006-02-15 05:05:03       23  ANACONDA CONFESSIONS   \n",
       "2 2006-02-15 05:05:03       25           ANGELS LIFE   \n",
       "\n",
       "                                         description  release_year  \\\n",
       "0  A Epic Drama of a Feminist And a Mad Scientist...          2006   \n",
       "1  A Lacklusture Display of a Dentist And a Denti...          2006   \n",
       "2  A Thoughtful Display of a Woman And a Astronau...          2006   \n",
       "\n",
       "   language_id original_language_id  rental_duration rental_rate  length  \\\n",
       "0            1                 None                6        0.99      86   \n",
       "1            1                 None                3        0.99      92   \n",
       "2            1                 None                3        2.99      74   \n",
       "\n",
       "  replacement_cost rating                  special_features  \\\n",
       "0            20.99     PG  Deleted Scenes,Behind the Scenes   \n",
       "1             9.99      R           Trailers,Deleted Scenes   \n",
       "2            15.99      G                          Trailers   \n",
       "\n",
       "          last_update  \n",
       "0 2006-02-15 05:03:42  \n",
       "1 2006-02-15 05:03:42  \n",
       "2 2006-02-15 05:03:42  "
      ]
     },
     "execution_count": 16,
     "metadata": {},
     "output_type": "execute_result"
    }
   ],
   "source": [
    "# the alternative would be \n",
    "t1 = time.time()\n",
    "\n",
    "query = (\"SELECT * \\\n",
    "         from sakila.actor as a INNER JOIN sakila.film_actor as fa \\\n",
    "                 on a.actor_id = fa.actor_id \\\n",
    "                     INNER JOIN sakila.film as f \\\n",
    "                         on f.film_id = fa.film_id ;\")\n",
    "\n",
    "cursor.execute(query)\n",
    "\n",
    "results = cursor.fetchall()\n",
    "df = pd.DataFrame(results, columns = [header[0] for header in cursor.description])\n",
    "\n",
    "print(time.time()-t1)\n",
    "df.head(3)"
   ]
  },
  {
   "cell_type": "markdown",
   "metadata": {},
   "source": [
    "## Inject and Manipulate data\n",
    "(Showcase with MySQL WorkBench side by side)"
   ]
  },
  {
   "cell_type": "code",
   "execution_count": 19,
   "metadata": {},
   "outputs": [],
   "source": [
    "query = (\"SELECT * FROM sakila.actor;\")\n",
    "# execute the query -> we need to call the cursor to execute our query\n",
    "cursor.execute(query)\n",
    "\n",
    "# this cursos currently holds the results of that query\n",
    "results = cursor.fetchall()\n",
    "\n",
    "import pandas as pd\n",
    "\n",
    "actors_df = pd.DataFrame(results)\n",
    "actors_df[\"full name\"] = actors_df[1] + \" \" +  actors_df[2] \n",
    "\n",
    "actors_df\n",
    "\n"
   ]
  },
  {
   "cell_type": "code",
   "execution_count": 21,
   "metadata": {},
   "outputs": [
    {
     "data": {
      "text/plain": [
       "0"
      ]
     },
     "execution_count": 21,
     "metadata": {},
     "output_type": "execute_result"
    }
   ],
   "source": [
    "query = (\"\"\"CREATE DATABASE labs\"\"\")\n",
    "cursor.execute(query)\n",
    "\n",
    "#X = input(\"please enter your default email\")\n",
    "\n",
    "query = (\"\"\"CREATE TABLE IF NOT EXISTS\n",
    "labs.demo(\n",
    "student_id INT PRIMARY KEY,\n",
    "student_name VARCHAR(52),\n",
    "email VARCHAR(32) DEFAULT \"john_doe@gmail.com\",\n",
    "coolness INT NOT NULL)\"\"\")\n",
    "\n",
    "cursor.execute(query)"
   ]
  },
  {
   "cell_type": "code",
   "execution_count": 22,
   "metadata": {},
   "outputs": [],
   "source": [
    "for index,fullname in zip(actors_df[0],actors_df['full name']):\n",
    "    query = \"\"\"INSERT INTO labs.demo(student_id, student_name, coolness) VALUES (\"\"\" + str(index+1000) +\", \\\"\"+ fullname + \"\\\",  10);\"\n",
    "    cursor.execute(query)\n",
    "\n",
    "## DROP DB for next lesson:\n",
    "#query = \"DROP DATABASE labs\"\n",
    "#cursor.execute(query)"
   ]
  },
  {
   "cell_type": "code",
   "execution_count": 17,
   "metadata": {},
   "outputs": [],
   "source": [
    "# The Python Wrapper for MSQL has generated changes to the database which must now be committed, this is done with the command\n",
    "# it's like \"Saving\" the changes made\n",
    "cnx.commit()\n",
    "#The cursor object has done it's job\n",
    "cursor.close()\n",
    "# and we now close the connection, you must always do this (good practice) or else the database might not be responsive to other connections.\n",
    "cnx.close() "
   ]
  }
 ],
 "metadata": {
  "kernelspec": {
   "display_name": "Python 3",
   "language": "python",
   "name": "python3"
  },
  "language_info": {
   "codemirror_mode": {
    "name": "ipython",
    "version": 3
   },
   "file_extension": ".py",
   "mimetype": "text/x-python",
   "name": "python",
   "nbconvert_exporter": "python",
   "pygments_lexer": "ipython3",
   "version": "3.13.2"
  }
 },
 "nbformat": 4,
 "nbformat_minor": 2
}
