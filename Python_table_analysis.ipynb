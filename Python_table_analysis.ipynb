{
 "cells": [
  {
   "cell_type": "code",
   "execution_count": 1,
   "metadata": {},
   "outputs": [],
   "source": [
    "import getpass\n",
    "password = getpass.getpass()"
   ]
  },
  {
   "cell_type": "code",
   "execution_count": 2,
   "metadata": {},
   "outputs": [
    {
     "name": "stdout",
     "output_type": "stream",
     "text": [
      "Connection success\n"
     ]
    }
   ],
   "source": [
    "import pymysql\n",
    "\n",
    "cnx = pymysql.connect(user='root', password= password,\n",
    "                      host='localhost', database='ih_gambling')\n",
    "if cnx.open:\n",
    "    print(\"Connection success\")\n",
    "else:\n",
    "    print(\"Connection did not succeeded\")"
   ]
  },
  {
   "cell_type": "code",
   "execution_count": 3,
   "metadata": {},
   "outputs": [],
   "source": [
    "# the object which will interact with the database\n",
    "cursor = cnx.cursor()"
   ]
  },
  {
   "cell_type": "markdown",
   "metadata": {},
   "source": [
    "Read data from ih_gambling database"
   ]
  },
  {
   "cell_type": "code",
   "execution_count": 5,
   "metadata": {},
   "outputs": [],
   "source": [
    "#Execute the Query\n",
    "account_query = \"SELECT * FROM ih_gambling.account;\"\n",
    "betting_query = \"SELECT * FROM ih_gambling.betting;\"\n",
    "customer_query = \"SELECT * FROM ih_gambling.customer;\"\n",
    "product_query = \"SELECT * FROM ih_gambling.product;\""
   ]
  },
  {
   "cell_type": "code",
   "execution_count": 6,
   "metadata": {},
   "outputs": [
    {
     "name": "stdout",
     "output_type": "stream",
     "text": [
      "('00357DG   ', 3531845, 'GIB', 'GBP', 0, 1.0, 'GM')\n",
      "('00497XG   ', 4188499, 'GIB', 'GBP', 0, 1.0, 'SB')\n",
      "('00692VS   ', 4704925, 'GIB', 'USD', 0, 2.0, 'SB')\n",
      "('00775SM   ', 2815836, 'GIB', 'USD', 0, 1.0, 'SB')\n",
      "('00C017    ', 889782, 'GIB', 'GBP', 1500, 0.41, 'XX')\n",
      "('00J381    ', 1191874, 'GIB', 'GBP', 500, 8.0, 'XX')\n",
      "('01148BP   ', 1569944, 'GIB', 'GBP', 0, 8.0, 'XX')\n",
      "('01152SJ   ', 1965214, 'GIB', 'USD', 0, 1.0, 'PO')\n",
      "('01196ZZ   ', 3042166, 'GIB', 'EUR', 0, 8.0, 'SB')\n",
      "('01284UW   ', 5694730, 'GIB', 'GBP', 0, 1.0, 'SB')\n",
      "<class 'tuple'>\n"
     ]
    },
    {
     "data": {
      "text/plain": [
       "(('AccountNo', 252, None, 262140, 262140, 0, True),\n",
       " ('CustId', 3, None, 11, 11, 0, True),\n",
       " ('AccountLocation', 252, None, 262140, 262140, 0, True),\n",
       " ('CurrencyCode', 252, None, 262140, 262140, 0, True),\n",
       " ('DailyDepositLimit', 3, None, 11, 11, 0, True),\n",
       " ('StakeScale', 5, None, 22, 22, 31, True),\n",
       " ('SourceProd', 252, None, 262140, 262140, 0, True))"
      ]
     },
     "execution_count": 6,
     "metadata": {},
     "output_type": "execute_result"
    }
   ],
   "source": [
    "cursor.execute(account_query)\n",
    "# The query has been exectued at this point, but the results are still in the cursor\n",
    "result = cursor.fetchall()\n",
    "for element in result:\n",
    "    print(element)\n",
    "\n",
    "print(type(result))\n",
    "\n",
    "# this object returns to you the metadata of the selected table\n",
    "cursor.description\n",
    "# returns the METADATA"
   ]
  },
  {
   "cell_type": "markdown",
   "metadata": {},
   "source": [
    "LOAD DATA IN PANDAS"
   ]
  },
  {
   "cell_type": "code",
   "execution_count": 7,
   "metadata": {},
   "outputs": [
    {
     "data": {
      "text/plain": [
       "(('00357DG   ', 3531845, 'GIB', 'GBP', 0, 1.0, 'GM'),\n",
       " ('00497XG   ', 4188499, 'GIB', 'GBP', 0, 1.0, 'SB'),\n",
       " ('00692VS   ', 4704925, 'GIB', 'USD', 0, 2.0, 'SB'),\n",
       " ('00775SM   ', 2815836, 'GIB', 'USD', 0, 1.0, 'SB'),\n",
       " ('00C017    ', 889782, 'GIB', 'GBP', 1500, 0.41, 'XX'),\n",
       " ('00J381    ', 1191874, 'GIB', 'GBP', 500, 8.0, 'XX'),\n",
       " ('01148BP   ', 1569944, 'GIB', 'GBP', 0, 8.0, 'XX'),\n",
       " ('01152SJ   ', 1965214, 'GIB', 'USD', 0, 1.0, 'PO'),\n",
       " ('01196ZZ   ', 3042166, 'GIB', 'EUR', 0, 8.0, 'SB'),\n",
       " ('01284UW   ', 5694730, 'GIB', 'GBP', 0, 1.0, 'SB'))"
      ]
     },
     "execution_count": 7,
     "metadata": {},
     "output_type": "execute_result"
    }
   ],
   "source": [
    "result"
   ]
  },
  {
   "cell_type": "code",
   "execution_count": 8,
   "metadata": {},
   "outputs": [
    {
     "data": {
      "application/vnd.microsoft.datawrangler.viewer.v0+json": {
       "columns": [
        {
         "name": "index",
         "rawType": "int64",
         "type": "integer"
        },
        {
         "name": "AccountNo",
         "rawType": "object",
         "type": "string"
        },
        {
         "name": "CustId",
         "rawType": "int64",
         "type": "integer"
        },
        {
         "name": "AccountLocation",
         "rawType": "object",
         "type": "string"
        },
        {
         "name": "CurrencyCode",
         "rawType": "object",
         "type": "string"
        },
        {
         "name": "DailyDepositLimit",
         "rawType": "int64",
         "type": "integer"
        },
        {
         "name": "StakeScale",
         "rawType": "float64",
         "type": "float"
        },
        {
         "name": "SourceProd",
         "rawType": "object",
         "type": "string"
        }
       ],
       "conversionMethod": "pd.DataFrame",
       "ref": "d4737076-a1bf-4eb2-b299-5d5437a4dc87",
       "rows": [
        [
         "0",
         "00357DG   ",
         "3531845",
         "GIB",
         "GBP",
         "0",
         "1.0",
         "GM"
        ],
        [
         "1",
         "00497XG   ",
         "4188499",
         "GIB",
         "GBP",
         "0",
         "1.0",
         "SB"
        ],
        [
         "2",
         "00692VS   ",
         "4704925",
         "GIB",
         "USD",
         "0",
         "2.0",
         "SB"
        ],
        [
         "3",
         "00775SM   ",
         "2815836",
         "GIB",
         "USD",
         "0",
         "1.0",
         "SB"
        ],
        [
         "4",
         "00C017    ",
         "889782",
         "GIB",
         "GBP",
         "1500",
         "0.41",
         "XX"
        ]
       ],
       "shape": {
        "columns": 7,
        "rows": 5
       }
      },
      "text/html": [
       "<div>\n",
       "<style scoped>\n",
       "    .dataframe tbody tr th:only-of-type {\n",
       "        vertical-align: middle;\n",
       "    }\n",
       "\n",
       "    .dataframe tbody tr th {\n",
       "        vertical-align: top;\n",
       "    }\n",
       "\n",
       "    .dataframe thead th {\n",
       "        text-align: right;\n",
       "    }\n",
       "</style>\n",
       "<table border=\"1\" class=\"dataframe\">\n",
       "  <thead>\n",
       "    <tr style=\"text-align: right;\">\n",
       "      <th></th>\n",
       "      <th>AccountNo</th>\n",
       "      <th>CustId</th>\n",
       "      <th>AccountLocation</th>\n",
       "      <th>CurrencyCode</th>\n",
       "      <th>DailyDepositLimit</th>\n",
       "      <th>StakeScale</th>\n",
       "      <th>SourceProd</th>\n",
       "    </tr>\n",
       "  </thead>\n",
       "  <tbody>\n",
       "    <tr>\n",
       "      <th>0</th>\n",
       "      <td>00357DG</td>\n",
       "      <td>3531845</td>\n",
       "      <td>GIB</td>\n",
       "      <td>GBP</td>\n",
       "      <td>0</td>\n",
       "      <td>1.00</td>\n",
       "      <td>GM</td>\n",
       "    </tr>\n",
       "    <tr>\n",
       "      <th>1</th>\n",
       "      <td>00497XG</td>\n",
       "      <td>4188499</td>\n",
       "      <td>GIB</td>\n",
       "      <td>GBP</td>\n",
       "      <td>0</td>\n",
       "      <td>1.00</td>\n",
       "      <td>SB</td>\n",
       "    </tr>\n",
       "    <tr>\n",
       "      <th>2</th>\n",
       "      <td>00692VS</td>\n",
       "      <td>4704925</td>\n",
       "      <td>GIB</td>\n",
       "      <td>USD</td>\n",
       "      <td>0</td>\n",
       "      <td>2.00</td>\n",
       "      <td>SB</td>\n",
       "    </tr>\n",
       "    <tr>\n",
       "      <th>3</th>\n",
       "      <td>00775SM</td>\n",
       "      <td>2815836</td>\n",
       "      <td>GIB</td>\n",
       "      <td>USD</td>\n",
       "      <td>0</td>\n",
       "      <td>1.00</td>\n",
       "      <td>SB</td>\n",
       "    </tr>\n",
       "    <tr>\n",
       "      <th>4</th>\n",
       "      <td>00C017</td>\n",
       "      <td>889782</td>\n",
       "      <td>GIB</td>\n",
       "      <td>GBP</td>\n",
       "      <td>1500</td>\n",
       "      <td>0.41</td>\n",
       "      <td>XX</td>\n",
       "    </tr>\n",
       "  </tbody>\n",
       "</table>\n",
       "</div>"
      ],
      "text/plain": [
       "    AccountNo   CustId AccountLocation CurrencyCode  DailyDepositLimit  \\\n",
       "0  00357DG     3531845             GIB          GBP                  0   \n",
       "1  00497XG     4188499             GIB          GBP                  0   \n",
       "2  00692VS     4704925             GIB          USD                  0   \n",
       "3  00775SM     2815836             GIB          USD                  0   \n",
       "4  00C017       889782             GIB          GBP               1500   \n",
       "\n",
       "   StakeScale SourceProd  \n",
       "0        1.00         GM  \n",
       "1        1.00         SB  \n",
       "2        2.00         SB  \n",
       "3        1.00         SB  \n",
       "4        0.41         XX  "
      ]
     },
     "execution_count": 8,
     "metadata": {},
     "output_type": "execute_result"
    }
   ],
   "source": [
    "import pandas as pd\n",
    "\n",
    "col_names = [header[0] for header in cursor.description]\n",
    "account = pd.DataFrame(result, columns = col_names)\n",
    "account.head()\n",
    "# and now its the usual pandas game."
   ]
  },
  {
   "cell_type": "code",
   "execution_count": 9,
   "metadata": {},
   "outputs": [
    {
     "data": {
      "text/plain": [
       "<bound method NDFrame.describe of     AccountNo   CustId AccountLocation CurrencyCode  DailyDepositLimit  \\\n",
       "0  00357DG     3531845             GIB          GBP                  0   \n",
       "1  00497XG     4188499             GIB          GBP                  0   \n",
       "2  00692VS     4704925             GIB          USD                  0   \n",
       "3  00775SM     2815836             GIB          USD                  0   \n",
       "4  00C017       889782             GIB          GBP               1500   \n",
       "5  00J381      1191874             GIB          GBP                500   \n",
       "6  01148BP     1569944             GIB          GBP                  0   \n",
       "7  01152SJ     1965214             GIB          USD                  0   \n",
       "8  01196ZZ     3042166             GIB          EUR                  0   \n",
       "9  01284UW     5694730             GIB          GBP                  0   \n",
       "\n",
       "   StakeScale SourceProd  \n",
       "0        1.00         GM  \n",
       "1        1.00         SB  \n",
       "2        2.00         SB  \n",
       "3        1.00         SB  \n",
       "4        0.41         XX  \n",
       "5        8.00         XX  \n",
       "6        8.00         XX  \n",
       "7        1.00         PO  \n",
       "8        8.00         SB  \n",
       "9        1.00         SB  >"
      ]
     },
     "execution_count": 9,
     "metadata": {},
     "output_type": "execute_result"
    }
   ],
   "source": [
    "account.describe"
   ]
  },
  {
   "cell_type": "code",
   "execution_count": 10,
   "metadata": {},
   "outputs": [
    {
     "data": {
      "text/plain": [
       "AccountNo            10\n",
       "CustId               10\n",
       "AccountLocation       1\n",
       "CurrencyCode          3\n",
       "DailyDepositLimit     3\n",
       "StakeScale            4\n",
       "SourceProd            4\n",
       "dtype: int64"
      ]
     },
     "execution_count": 10,
     "metadata": {},
     "output_type": "execute_result"
    }
   ],
   "source": [
    "account.nunique()"
   ]
  },
  {
   "cell_type": "code",
   "execution_count": 11,
   "metadata": {},
   "outputs": [],
   "source": [
    "account.set_index(\"AccountNo\", inplace=True)  # 'id' es tu clave primaria\n"
   ]
  },
  {
   "cell_type": "code",
   "execution_count": 12,
   "metadata": {},
   "outputs": [
    {
     "data": {
      "application/vnd.microsoft.datawrangler.viewer.v0+json": {
       "columns": [
        {
         "name": "AccountNo",
         "rawType": "object",
         "type": "string"
        },
        {
         "name": "CustId",
         "rawType": "int64",
         "type": "integer"
        },
        {
         "name": "AccountLocation",
         "rawType": "object",
         "type": "string"
        },
        {
         "name": "CurrencyCode",
         "rawType": "object",
         "type": "string"
        },
        {
         "name": "DailyDepositLimit",
         "rawType": "int64",
         "type": "integer"
        },
        {
         "name": "StakeScale",
         "rawType": "float64",
         "type": "float"
        },
        {
         "name": "SourceProd",
         "rawType": "object",
         "type": "string"
        }
       ],
       "conversionMethod": "pd.DataFrame",
       "ref": "0d9db555-02e6-4c1a-9ca5-1c921279e95d",
       "rows": [
        [
         "00357DG   ",
         "3531845",
         "GIB",
         "GBP",
         "0",
         "1.0",
         "GM"
        ],
        [
         "00497XG   ",
         "4188499",
         "GIB",
         "GBP",
         "0",
         "1.0",
         "SB"
        ],
        [
         "00692VS   ",
         "4704925",
         "GIB",
         "USD",
         "0",
         "2.0",
         "SB"
        ],
        [
         "00775SM   ",
         "2815836",
         "GIB",
         "USD",
         "0",
         "1.0",
         "SB"
        ],
        [
         "00C017    ",
         "889782",
         "GIB",
         "GBP",
         "1500",
         "0.41",
         "XX"
        ]
       ],
       "shape": {
        "columns": 6,
        "rows": 5
       }
      },
      "text/html": [
       "<div>\n",
       "<style scoped>\n",
       "    .dataframe tbody tr th:only-of-type {\n",
       "        vertical-align: middle;\n",
       "    }\n",
       "\n",
       "    .dataframe tbody tr th {\n",
       "        vertical-align: top;\n",
       "    }\n",
       "\n",
       "    .dataframe thead th {\n",
       "        text-align: right;\n",
       "    }\n",
       "</style>\n",
       "<table border=\"1\" class=\"dataframe\">\n",
       "  <thead>\n",
       "    <tr style=\"text-align: right;\">\n",
       "      <th></th>\n",
       "      <th>CustId</th>\n",
       "      <th>AccountLocation</th>\n",
       "      <th>CurrencyCode</th>\n",
       "      <th>DailyDepositLimit</th>\n",
       "      <th>StakeScale</th>\n",
       "      <th>SourceProd</th>\n",
       "    </tr>\n",
       "    <tr>\n",
       "      <th>AccountNo</th>\n",
       "      <th></th>\n",
       "      <th></th>\n",
       "      <th></th>\n",
       "      <th></th>\n",
       "      <th></th>\n",
       "      <th></th>\n",
       "    </tr>\n",
       "  </thead>\n",
       "  <tbody>\n",
       "    <tr>\n",
       "      <th>00357DG</th>\n",
       "      <td>3531845</td>\n",
       "      <td>GIB</td>\n",
       "      <td>GBP</td>\n",
       "      <td>0</td>\n",
       "      <td>1.00</td>\n",
       "      <td>GM</td>\n",
       "    </tr>\n",
       "    <tr>\n",
       "      <th>00497XG</th>\n",
       "      <td>4188499</td>\n",
       "      <td>GIB</td>\n",
       "      <td>GBP</td>\n",
       "      <td>0</td>\n",
       "      <td>1.00</td>\n",
       "      <td>SB</td>\n",
       "    </tr>\n",
       "    <tr>\n",
       "      <th>00692VS</th>\n",
       "      <td>4704925</td>\n",
       "      <td>GIB</td>\n",
       "      <td>USD</td>\n",
       "      <td>0</td>\n",
       "      <td>2.00</td>\n",
       "      <td>SB</td>\n",
       "    </tr>\n",
       "    <tr>\n",
       "      <th>00775SM</th>\n",
       "      <td>2815836</td>\n",
       "      <td>GIB</td>\n",
       "      <td>USD</td>\n",
       "      <td>0</td>\n",
       "      <td>1.00</td>\n",
       "      <td>SB</td>\n",
       "    </tr>\n",
       "    <tr>\n",
       "      <th>00C017</th>\n",
       "      <td>889782</td>\n",
       "      <td>GIB</td>\n",
       "      <td>GBP</td>\n",
       "      <td>1500</td>\n",
       "      <td>0.41</td>\n",
       "      <td>XX</td>\n",
       "    </tr>\n",
       "  </tbody>\n",
       "</table>\n",
       "</div>"
      ],
      "text/plain": [
       "             CustId AccountLocation CurrencyCode  DailyDepositLimit  \\\n",
       "AccountNo                                                             \n",
       "00357DG     3531845             GIB          GBP                  0   \n",
       "00497XG     4188499             GIB          GBP                  0   \n",
       "00692VS     4704925             GIB          USD                  0   \n",
       "00775SM     2815836             GIB          USD                  0   \n",
       "00C017       889782             GIB          GBP               1500   \n",
       "\n",
       "            StakeScale SourceProd  \n",
       "AccountNo                          \n",
       "00357DG           1.00         GM  \n",
       "00497XG           1.00         SB  \n",
       "00692VS           2.00         SB  \n",
       "00775SM           1.00         SB  \n",
       "00C017            0.41         XX  "
      ]
     },
     "execution_count": 12,
     "metadata": {},
     "output_type": "execute_result"
    }
   ],
   "source": [
    "account.head()"
   ]
  },
  {
   "cell_type": "code",
   "execution_count": 13,
   "metadata": {},
   "outputs": [],
   "source": [
    "cnx.commit()\n"
   ]
  }
 ],
 "metadata": {
  "kernelspec": {
   "display_name": "Python 3",
   "language": "python",
   "name": "python3"
  },
  "language_info": {
   "codemirror_mode": {
    "name": "ipython",
    "version": 3
   },
   "file_extension": ".py",
   "mimetype": "text/x-python",
   "name": "python",
   "nbconvert_exporter": "python",
   "pygments_lexer": "ipython3",
   "version": "3.13.2"
  }
 },
 "nbformat": 4,
 "nbformat_minor": 2
}
