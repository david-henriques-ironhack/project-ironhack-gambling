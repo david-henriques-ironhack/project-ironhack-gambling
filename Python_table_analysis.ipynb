{
 "cells": [
  {
   "cell_type": "code",
   "execution_count": 3,
   "metadata": {},
   "outputs": [],
   "source": [
    "import getpass\n",
    "password = getpass.getpass()"
   ]
  },
  {
   "cell_type": "code",
   "execution_count": 4,
   "metadata": {},
   "outputs": [
    {
     "name": "stdout",
     "output_type": "stream",
     "text": [
      "Connection success\n"
     ]
    }
   ],
   "source": [
    "import pymysql\n",
    "\n",
    "cnx = pymysql.connect(user='root', password= password,\n",
    "                      host='localhost', database='ih_gambling')\n",
    "if cnx.open:\n",
    "    print(\"Connection success\")\n",
    "else:\n",
    "    print(\"Connection did not succeeded\")"
   ]
  },
  {
   "cell_type": "code",
   "execution_count": 5,
   "metadata": {},
   "outputs": [],
   "source": [
    "# the object which will interact with the database\n",
    "cursor = cnx.cursor()"
   ]
  },
  {
   "cell_type": "markdown",
   "metadata": {},
   "source": [
    "Read data from ih_gambling database"
   ]
  },
  {
   "cell_type": "code",
   "execution_count": 8,
   "metadata": {},
   "outputs": [],
   "source": [
    "#Execute the Query\n",
    "account_table = \"SELECT * FROM ih_gambling.account;\"\n",
    "betting_table = \"SELECT * FROM ih_gambling.betting;\"\n",
    "customer_table = \"SELECT * FROM ih_gambling.customer;\"\n",
    "product_table = \"SELECT * FROM ih_gambling.product;\""
   ]
  },
  {
   "cell_type": "code",
   "execution_count": 16,
   "metadata": {},
   "outputs": [
    {
     "name": "stdout",
     "output_type": "stream",
     "text": [
      "('00357DG   ', 3531845, 'GIB', 'GBP', 0, 1.0, 'GM')\n",
      "('00497XG   ', 4188499, 'GIB', 'GBP', 0, 1.0, 'SB')\n",
      "('00692VS   ', 4704925, 'GIB', 'USD', 0, 2.0, 'SB')\n",
      "('00775SM   ', 2815836, 'GIB', 'USD', 0, 1.0, 'SB')\n",
      "('00C017    ', 889782, 'GIB', 'GBP', 1500, 0.41, 'XX')\n",
      "('00J381    ', 1191874, 'GIB', 'GBP', 500, 8.0, 'XX')\n",
      "('01148BP   ', 1569944, 'GIB', 'GBP', 0, 8.0, 'XX')\n",
      "('01152SJ   ', 1965214, 'GIB', 'USD', 0, 1.0, 'PO')\n",
      "('01196ZZ   ', 3042166, 'GIB', 'EUR', 0, 8.0, 'SB')\n",
      "('01284UW   ', 5694730, 'GIB', 'GBP', 0, 1.0, 'SB')\n",
      "<class 'tuple'>\n"
     ]
    },
    {
     "data": {
      "text/plain": [
       "(('AccountNo', 252, None, 262140, 262140, 0, True),\n",
       " ('CustId', 3, None, 11, 11, 0, True),\n",
       " ('AccountLocation', 252, None, 262140, 262140, 0, True),\n",
       " ('CurrencyCode', 252, None, 262140, 262140, 0, True),\n",
       " ('DailyDepositLimit', 3, None, 11, 11, 0, True),\n",
       " ('StakeScale', 5, None, 22, 22, 31, True),\n",
       " ('SourceProd', 252, None, 262140, 262140, 0, True))"
      ]
     },
     "execution_count": 16,
     "metadata": {},
     "output_type": "execute_result"
    }
   ],
   "source": [
    "cursor.execute(account_table)\n",
    "# The query has been exectued at this point, but the results are still in the cursor\n",
    "result = cursor.fetchall()\n",
    "for element in result:\n",
    "    print(element)\n",
    "\n",
    "print(type(result))\n",
    "\n",
    "# this object returns to you the metadata of the selected table\n",
    "cursor.description\n",
    "# returns the METADATA"
   ]
  },
  {
   "cell_type": "code",
   "execution_count": null,
   "metadata": {},
   "outputs": [],
   "source": [
    "cursor.execute(query_2)\n",
    "# The query has been exectued at this point, but the results are still in the cursor\n",
    "result = cursor.fetchall()\n",
    "for element in result:\n",
    "    print(element)\n",
    "\n",
    "#print(type(result))\n",
    "\n",
    "# this object returns to you the metadata of the selected table\n",
    "cursor.description\n",
    "# returns the METADATA"
   ]
  }
 ],
 "metadata": {
  "kernelspec": {
   "display_name": "Python 3",
   "language": "python",
   "name": "python3"
  },
  "language_info": {
   "codemirror_mode": {
    "name": "ipython",
    "version": 3
   },
   "file_extension": ".py",
   "mimetype": "text/x-python",
   "name": "python",
   "nbconvert_exporter": "python",
   "pygments_lexer": "ipython3",
   "version": "3.13.2"
  }
 },
 "nbformat": 4,
 "nbformat_minor": 2
}
